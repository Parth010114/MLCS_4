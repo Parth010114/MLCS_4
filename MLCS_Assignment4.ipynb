{
  "cells": [
    {
      "cell_type": "code",
      "execution_count": 1,
      "metadata": {
        "id": "zAf3EUE_4_U8"
      },
      "outputs": [],
      "source": [
        "import numpy as np\n",
        "import keras\n",
        "import h5py\n",
        "from tqdm import tqdm\n",
        "from google.colab import drive"
      ]
    },
    {
      "cell_type": "code",
      "execution_count": 3,
      "metadata": {
        "colab": {
          "base_uri": "https://localhost:8080/"
        },
        "id": "E97PhbQMzYdH",
        "outputId": "082da388-60a6-4bd2-bde5-cdd971a81e19"
      },
      "outputs": [
        {
          "output_type": "stream",
          "name": "stdout",
          "text": [
            "Mounted at /content/drive\n"
          ]
        }
      ],
      "source": [
        "drive.mount('/content/drive')"
      ]
    },
    {
      "cell_type": "code",
      "execution_count": 11,
      "metadata": {
        "id": "TTZSMaWWza9o"
      },
      "outputs": [],
      "source": [
        "clean_data_filename = '/content/drive/MyDrive/MLCS_4/cl/valid.h5'\n",
        "poisoned_data_filename = '/content/drive/MyDrive/MLCS_4/bd/bd_valid.h5'\n",
        "model_filename = '/content/drive/MyDrive/MLCS_4/bd_net.h5'\n",
        "\n",
        "\n",
        "def data_loader(filepath):\n",
        "    data = h5py.File(filepath, 'r')\n",
        "    x_data = np.array(data['data'])\n",
        "    y_data = np.array(data['label'])\n",
        "    x_data = x_data.transpose((0, 2, 3, 1))\n",
        "    return x_data, y_data"
      ]
    },
    {
      "cell_type": "code",
      "execution_count": 12,
      "metadata": {
        "id": "607EYwLNzd3H"
      },
      "outputs": [],
      "source": [
        "def load_and_evaluate_model(model_filename, cl_x_test, cl_y_test, bd_x_test, bd_y_test):\n",
        "    model = keras.models.load_model(model_filename)\n",
        "\n",
        "    cl_label_p = np.argmax(model.predict(cl_x_test), axis=1)\n",
        "    clean_accuracy = np.mean(np.equal(cl_label_p, cl_y_test)) * 100\n",
        "    print('Clean Classification accuracy:', clean_accuracy)\n",
        "\n",
        "    bd_label_p = np.argmax(model.predict(bd_x_test), axis=1)\n",
        "    asr = np.mean(np.equal(bd_label_p, bd_y_test)) * 100\n",
        "    print('Attack Success Rate:', asr)\n",
        "\n",
        "    return model, clean_accuracy"
      ]
    },
    {
      "cell_type": "code",
      "execution_count": 13,
      "metadata": {
        "colab": {
          "base_uri": "https://localhost:8080/"
        },
        "id": "Eg315TeF0TV2",
        "outputId": "b9ba0764-a706-4c82-dd4f-01369191c158"
      },
      "outputs": [
        {
          "output_type": "stream",
          "name": "stdout",
          "text": [
            "Model: \"model_1\"\n",
            "__________________________________________________________________________________________________\n",
            " Layer (type)                Output Shape                 Param #   Connected to                  \n",
            "==================================================================================================\n",
            " input (InputLayer)          [(None, 55, 47, 3)]          0         []                            \n",
            "                                                                                                  \n",
            " conv_1 (Conv2D)             (None, 52, 44, 20)           980       ['input[0][0]']               \n",
            "                                                                                                  \n",
            " pool_1 (MaxPooling2D)       (None, 26, 22, 20)           0         ['conv_1[0][0]']              \n",
            "                                                                                                  \n",
            " conv_2 (Conv2D)             (None, 24, 20, 40)           7240      ['pool_1[0][0]']              \n",
            "                                                                                                  \n",
            " pool_2 (MaxPooling2D)       (None, 12, 10, 40)           0         ['conv_2[0][0]']              \n",
            "                                                                                                  \n",
            " conv_3 (Conv2D)             (None, 10, 8, 60)            21660     ['pool_2[0][0]']              \n",
            "                                                                                                  \n",
            " pool_3 (MaxPooling2D)       (None, 5, 4, 60)             0         ['conv_3[0][0]']              \n",
            "                                                                                                  \n",
            " conv_4 (Conv2D)             (None, 4, 3, 80)             19280     ['pool_3[0][0]']              \n",
            "                                                                                                  \n",
            " flatten_1 (Flatten)         (None, 1200)                 0         ['pool_3[0][0]']              \n",
            "                                                                                                  \n",
            " flatten_2 (Flatten)         (None, 960)                  0         ['conv_4[0][0]']              \n",
            "                                                                                                  \n",
            " fc_1 (Dense)                (None, 160)                  192160    ['flatten_1[0][0]']           \n",
            "                                                                                                  \n",
            " fc_2 (Dense)                (None, 160)                  153760    ['flatten_2[0][0]']           \n",
            "                                                                                                  \n",
            " add_1 (Add)                 (None, 160)                  0         ['fc_1[0][0]',                \n",
            "                                                                     'fc_2[0][0]']                \n",
            "                                                                                                  \n",
            " activation_1 (Activation)   (None, 160)                  0         ['add_1[0][0]']               \n",
            "                                                                                                  \n",
            " output (Dense)              (None, 1283)                 206563    ['activation_1[0][0]']        \n",
            "                                                                                                  \n",
            "==================================================================================================\n",
            "Total params: 601643 (2.30 MB)\n",
            "Trainable params: 601643 (2.30 MB)\n",
            "Non-trainable params: 0 (0.00 Byte)\n",
            "__________________________________________________________________________________________________\n",
            "None\n"
          ]
        }
      ],
      "source": [
        "model = keras.models.load_model(model_filename)\n",
        "print(model.summary())"
      ]
    },
    {
      "cell_type": "code",
      "execution_count": 14,
      "metadata": {
        "colab": {
          "base_uri": "https://localhost:8080/"
        },
        "id": "daq6GltezhAK",
        "outputId": "d8a44b71-386c-464f-97fb-f106a5904103"
      },
      "outputs": [
        {
          "output_type": "stream",
          "name": "stdout",
          "text": [
            "361/361 [==============================] - 8s 2ms/step\n",
            "Clean Classification accuracy: 98.64899974019225\n",
            "361/361 [==============================] - 1s 2ms/step\n",
            "Attack Success Rate: 100.0\n",
            "361/361 [==============================] - 1s 2ms/step\n"
          ]
        },
        {
          "output_type": "stream",
          "name": "stderr",
          "text": [
            "\r  0%|          | 0/60 [00:00<?, ?it/s]"
          ]
        },
        {
          "output_type": "stream",
          "name": "stdout",
          "text": [
            "361/361 [==============================] - 1s 2ms/step\n",
            "361/361 [==============================] - 1s 2ms/step\n"
          ]
        },
        {
          "output_type": "stream",
          "name": "stderr",
          "text": [
            "\r  2%|▏         | 1/60 [00:03<03:48,  3.87s/it]"
          ]
        },
        {
          "output_type": "stream",
          "name": "stdout",
          "text": [
            "\n",
            "The clean accuracy is:  98.64899974019225\n",
            "The attack success rate is:  100.0\n",
            "The pruned channel index is:  0\n",
            "361/361 [==============================] - 1s 2ms/step\n",
            "361/361 [==============================] - 1s 2ms/step\n"
          ]
        },
        {
          "output_type": "stream",
          "name": "stderr",
          "text": [
            "\r  3%|▎         | 2/60 [00:07<03:43,  3.85s/it]"
          ]
        },
        {
          "output_type": "stream",
          "name": "stdout",
          "text": [
            "\n",
            "The clean accuracy is:  98.64899974019225\n",
            "The attack success rate is:  100.0\n",
            "The pruned channel index is:  26\n",
            "361/361 [==============================] - 1s 2ms/step\n",
            "361/361 [==============================] - 1s 2ms/step\n"
          ]
        },
        {
          "output_type": "stream",
          "name": "stderr",
          "text": [
            "\r  5%|▌         | 3/60 [00:11<03:43,  3.93s/it]"
          ]
        },
        {
          "output_type": "stream",
          "name": "stdout",
          "text": [
            "\n",
            "The clean accuracy is:  98.64899974019225\n",
            "The attack success rate is:  100.0\n",
            "The pruned channel index is:  27\n",
            "361/361 [==============================] - 1s 2ms/step\n",
            "361/361 [==============================] - 1s 2ms/step\n"
          ]
        },
        {
          "output_type": "stream",
          "name": "stderr",
          "text": [
            "\r  7%|▋         | 4/60 [00:15<03:42,  3.97s/it]"
          ]
        },
        {
          "output_type": "stream",
          "name": "stdout",
          "text": [
            "\n",
            "The clean accuracy is:  98.64899974019225\n",
            "The attack success rate is:  100.0\n",
            "The pruned channel index is:  30\n",
            "361/361 [==============================] - 1s 2ms/step\n",
            "361/361 [==============================] - 1s 2ms/step\n",
            "\n",
            "The clean accuracy is:  98.64899974019225\n",
            "The attack success rate is:  100.0\n",
            "The pruned channel index is:  "
          ]
        },
        {
          "output_type": "stream",
          "name": "stderr",
          "text": [
            "\r  8%|▊         | 5/60 [00:19<03:36,  3.93s/it]"
          ]
        },
        {
          "output_type": "stream",
          "name": "stdout",
          "text": [
            "31\n",
            "361/361 [==============================] - 1s 2ms/step\n",
            "361/361 [==============================] - 1s 2ms/step\n"
          ]
        },
        {
          "output_type": "stream",
          "name": "stderr",
          "text": [
            "\r 10%|█         | 6/60 [00:23<03:31,  3.91s/it]"
          ]
        },
        {
          "output_type": "stream",
          "name": "stdout",
          "text": [
            "\n",
            "The clean accuracy is:  98.64899974019225\n",
            "The attack success rate is:  100.0\n",
            "The pruned channel index is:  33\n",
            "361/361 [==============================] - 1s 2ms/step\n",
            "361/361 [==============================] - 1s 2ms/step\n"
          ]
        },
        {
          "output_type": "stream",
          "name": "stderr",
          "text": [
            "\r 12%|█▏        | 7/60 [00:27<03:28,  3.93s/it]"
          ]
        },
        {
          "output_type": "stream",
          "name": "stdout",
          "text": [
            "\n",
            "The clean accuracy is:  98.64899974019225\n",
            "The attack success rate is:  100.0\n",
            "The pruned channel index is:  34\n",
            "361/361 [==============================] - 1s 2ms/step\n",
            "361/361 [==============================] - 1s 2ms/step\n"
          ]
        },
        {
          "output_type": "stream",
          "name": "stderr",
          "text": [
            "\r 13%|█▎        | 8/60 [00:31<03:23,  3.91s/it]"
          ]
        },
        {
          "output_type": "stream",
          "name": "stdout",
          "text": [
            "\n",
            "The clean accuracy is:  98.64899974019225\n",
            "The attack success rate is:  100.0\n",
            "The pruned channel index is:  36\n",
            "361/361 [==============================] - 1s 2ms/step\n",
            "361/361 [==============================] - 1s 2ms/step\n"
          ]
        },
        {
          "output_type": "stream",
          "name": "stderr",
          "text": [
            "\r 15%|█▌        | 9/60 [00:35<03:18,  3.90s/it]"
          ]
        },
        {
          "output_type": "stream",
          "name": "stdout",
          "text": [
            "\n",
            "The clean accuracy is:  98.64899974019225\n",
            "The attack success rate is:  100.0\n",
            "The pruned channel index is:  37\n",
            "361/361 [==============================] - 1s 2ms/step\n",
            "361/361 [==============================] - 1s 2ms/step\n"
          ]
        },
        {
          "output_type": "stream",
          "name": "stderr",
          "text": [
            "\r 17%|█▋        | 10/60 [00:39<03:17,  3.95s/it]"
          ]
        },
        {
          "output_type": "stream",
          "name": "stdout",
          "text": [
            "\n",
            "The clean accuracy is:  98.64899974019225\n",
            "The attack success rate is:  100.0\n",
            "The pruned channel index is:  38\n",
            "361/361 [==============================] - 1s 2ms/step\n",
            "361/361 [==============================] - 1s 2ms/step\n",
            "\n",
            "The clean accuracy is:  98.64899974019225\n",
            "The attack success rate is:  100.0\n",
            "The pruned channel index is:  25\n"
          ]
        },
        {
          "output_type": "stream",
          "name": "stderr",
          "text": [
            "\r 18%|█▊        | 11/60 [00:43<03:15,  3.99s/it]"
          ]
        },
        {
          "output_type": "stream",
          "name": "stdout",
          "text": [
            "361/361 [==============================] - 1s 2ms/step\n",
            "361/361 [==============================] - 1s 2ms/step\n"
          ]
        },
        {
          "output_type": "stream",
          "name": "stderr",
          "text": [
            "\r 20%|██        | 12/60 [00:47<03:09,  3.95s/it]"
          ]
        },
        {
          "output_type": "stream",
          "name": "stdout",
          "text": [
            "\n",
            "The clean accuracy is:  98.64899974019225\n",
            "The attack success rate is:  100.0\n",
            "The pruned channel index is:  39\n",
            "361/361 [==============================] - 1s 2ms/step\n",
            "361/361 [==============================] - 1s 2ms/step\n"
          ]
        },
        {
          "output_type": "stream",
          "name": "stderr",
          "text": [
            "\r 22%|██▏       | 13/60 [00:51<03:06,  3.97s/it]"
          ]
        },
        {
          "output_type": "stream",
          "name": "stdout",
          "text": [
            "\n",
            "The clean accuracy is:  98.64899974019225\n",
            "The attack success rate is:  100.0\n",
            "The pruned channel index is:  41\n",
            "361/361 [==============================] - 1s 2ms/step\n",
            "361/361 [==============================] - 1s 2ms/step\n"
          ]
        },
        {
          "output_type": "stream",
          "name": "stderr",
          "text": [
            "\r 23%|██▎       | 14/60 [00:55<03:03,  4.00s/it]"
          ]
        },
        {
          "output_type": "stream",
          "name": "stdout",
          "text": [
            "\n",
            "The clean accuracy is:  98.64899974019225\n",
            "The attack success rate is:  100.0\n",
            "The pruned channel index is:  44\n",
            "361/361 [==============================] - 1s 2ms/step\n",
            "361/361 [==============================] - 1s 2ms/step\n"
          ]
        },
        {
          "output_type": "stream",
          "name": "stderr",
          "text": [
            "\r 25%|██▌       | 15/60 [00:59<02:58,  3.96s/it]"
          ]
        },
        {
          "output_type": "stream",
          "name": "stdout",
          "text": [
            "\n",
            "The clean accuracy is:  98.64899974019225\n",
            "The attack success rate is:  100.0\n",
            "The pruned channel index is:  45\n",
            "361/361 [==============================] - 1s 2ms/step\n",
            "361/361 [==============================] - 1s 2ms/step\n"
          ]
        },
        {
          "output_type": "stream",
          "name": "stderr",
          "text": [
            "\r 27%|██▋       | 16/60 [01:03<02:56,  4.02s/it]"
          ]
        },
        {
          "output_type": "stream",
          "name": "stdout",
          "text": [
            "\n",
            "The clean accuracy is:  98.64899974019225\n",
            "The attack success rate is:  100.0\n",
            "The pruned channel index is:  47\n",
            "361/361 [==============================] - 1s 2ms/step\n",
            "361/361 [==============================] - 1s 2ms/step\n",
            "\n",
            "The clean accuracy is:  98.64899974019225\n",
            "The attack success rate is:  100.0\n",
            "The pruned channel index is:  48\n"
          ]
        },
        {
          "output_type": "stream",
          "name": "stderr",
          "text": [
            "\r 28%|██▊       | 17/60 [01:07<02:51,  3.99s/it]"
          ]
        },
        {
          "output_type": "stream",
          "name": "stdout",
          "text": [
            "361/361 [==============================] - 1s 2ms/step\n",
            "361/361 [==============================] - 1s 2ms/step\n"
          ]
        },
        {
          "output_type": "stream",
          "name": "stderr",
          "text": [
            "\r 30%|███       | 18/60 [01:11<02:46,  3.96s/it]"
          ]
        },
        {
          "output_type": "stream",
          "name": "stdout",
          "text": [
            "\n",
            "The clean accuracy is:  98.64899974019225\n",
            "The attack success rate is:  100.0\n",
            "The pruned channel index is:  49\n",
            "361/361 [==============================] - 1s 2ms/step\n",
            "361/361 [==============================] - 1s 2ms/step\n",
            "\n",
            "The clean accuracy is:  98.64899974019225\n",
            "The attack success rate is:  100.0\n",
            "The pruned channel index is:  50\n"
          ]
        },
        {
          "output_type": "stream",
          "name": "stderr",
          "text": [
            "\r 32%|███▏      | 19/60 [01:15<02:41,  3.95s/it]"
          ]
        },
        {
          "output_type": "stream",
          "name": "stdout",
          "text": [
            "361/361 [==============================] - 1s 2ms/step\n",
            "361/361 [==============================] - 1s 2ms/step\n"
          ]
        },
        {
          "output_type": "stream",
          "name": "stderr",
          "text": [
            "\r 33%|███▎      | 20/60 [01:18<02:37,  3.93s/it]"
          ]
        },
        {
          "output_type": "stream",
          "name": "stdout",
          "text": [
            "\n",
            "The clean accuracy is:  98.64899974019225\n",
            "The attack success rate is:  100.0\n",
            "The pruned channel index is:  53\n",
            "361/361 [==============================] - 1s 2ms/step\n",
            "361/361 [==============================] - 1s 2ms/step\n",
            "\n",
            "The clean accuracy is:  98.64899974019225\n",
            "The attack success rate is:  100.0\n",
            "The pruned channel index is:  55\n"
          ]
        },
        {
          "output_type": "stream",
          "name": "stderr",
          "text": [
            "\r 35%|███▌      | 21/60 [01:22<02:34,  3.96s/it]"
          ]
        },
        {
          "output_type": "stream",
          "name": "stdout",
          "text": [
            "361/361 [==============================] - 1s 2ms/step\n",
            "361/361 [==============================] - 1s 2ms/step\n"
          ]
        },
        {
          "output_type": "stream",
          "name": "stderr",
          "text": [
            "\r 37%|███▋      | 22/60 [01:26<02:30,  3.96s/it]"
          ]
        },
        {
          "output_type": "stream",
          "name": "stdout",
          "text": [
            "\n",
            "The clean accuracy is:  98.64899974019225\n",
            "The attack success rate is:  100.0\n",
            "The pruned channel index is:  40\n",
            "361/361 [==============================] - 1s 2ms/step\n",
            "361/361 [==============================] - 1s 2ms/step\n"
          ]
        },
        {
          "output_type": "stream",
          "name": "stderr",
          "text": [
            "\r 38%|███▊      | 23/60 [01:30<02:25,  3.93s/it]"
          ]
        },
        {
          "output_type": "stream",
          "name": "stdout",
          "text": [
            "\n",
            "The clean accuracy is:  98.64899974019225\n",
            "The attack success rate is:  100.0\n",
            "The pruned channel index is:  24\n",
            "361/361 [==============================] - 1s 2ms/step\n",
            "361/361 [==============================] - 1s 2ms/step\n"
          ]
        },
        {
          "output_type": "stream",
          "name": "stderr",
          "text": [
            "\r 40%|████      | 24/60 [01:34<02:21,  3.92s/it]"
          ]
        },
        {
          "output_type": "stream",
          "name": "stdout",
          "text": [
            "\n",
            "The clean accuracy is:  98.64899974019225\n",
            "The attack success rate is:  100.0\n",
            "The pruned channel index is:  59\n",
            "361/361 [==============================] - 1s 2ms/step\n",
            "361/361 [==============================] - 1s 2ms/step\n"
          ]
        },
        {
          "output_type": "stream",
          "name": "stderr",
          "text": [
            "\r 42%|████▏     | 25/60 [01:38<02:17,  3.94s/it]"
          ]
        },
        {
          "output_type": "stream",
          "name": "stdout",
          "text": [
            "\n",
            "The clean accuracy is:  98.64899974019225\n",
            "The attack success rate is:  100.0\n",
            "The pruned channel index is:  9\n",
            "361/361 [==============================] - 1s 2ms/step\n",
            "361/361 [==============================] - 1s 2ms/step\n",
            "\n",
            "The clean accuracy is:  98.64899974019225\n",
            "The attack success rate is:  100.0\n",
            "The pruned channel index is:  2\n"
          ]
        },
        {
          "output_type": "stream",
          "name": "stderr",
          "text": [
            "\r 43%|████▎     | 26/60 [01:42<02:13,  3.93s/it]"
          ]
        },
        {
          "output_type": "stream",
          "name": "stdout",
          "text": [
            "361/361 [==============================] - 1s 2ms/step\n",
            "361/361 [==============================] - 1s 2ms/step\n"
          ]
        },
        {
          "output_type": "stream",
          "name": "stderr",
          "text": [
            "\r 45%|████▌     | 27/60 [01:46<02:09,  3.91s/it]"
          ]
        },
        {
          "output_type": "stream",
          "name": "stdout",
          "text": [
            "\n",
            "The clean accuracy is:  98.64899974019225\n",
            "The attack success rate is:  100.0\n",
            "The pruned channel index is:  12\n",
            "361/361 [==============================] - 1s 2ms/step\n",
            "361/361 [==============================] - 1s 2ms/step\n",
            "\n",
            "The clean accuracy is:  98.64899974019225\n",
            "The attack success rate is:  100.0\n",
            "The pruned channel index is:  13\n"
          ]
        },
        {
          "output_type": "stream",
          "name": "stderr",
          "text": [
            "\r 47%|████▋     | 28/60 [01:50<02:05,  3.93s/it]"
          ]
        },
        {
          "output_type": "stream",
          "name": "stdout",
          "text": [
            "361/361 [==============================] - 1s 2ms/step\n",
            "361/361 [==============================] - 1s 2ms/step\n"
          ]
        },
        {
          "output_type": "stream",
          "name": "stderr",
          "text": [
            "\r 48%|████▊     | 29/60 [01:54<02:01,  3.91s/it]"
          ]
        },
        {
          "output_type": "stream",
          "name": "stdout",
          "text": [
            "\n",
            "The clean accuracy is:  98.64899974019225\n",
            "The attack success rate is:  100.0\n",
            "The pruned channel index is:  17\n",
            "361/361 [==============================] - 1s 2ms/step\n",
            "361/361 [==============================] - 1s 2ms/step\n"
          ]
        },
        {
          "output_type": "stream",
          "name": "stderr",
          "text": [
            "\r 50%|█████     | 30/60 [01:58<01:57,  3.90s/it]"
          ]
        },
        {
          "output_type": "stream",
          "name": "stdout",
          "text": [
            "\n",
            "The clean accuracy is:  98.64899974019225\n",
            "The attack success rate is:  100.0\n",
            "The pruned channel index is:  14\n",
            "361/361 [==============================] - 1s 2ms/step\n",
            "361/361 [==============================] - 1s 2ms/step\n",
            "\n",
            "The clean accuracy is:  98.64899974019225\n",
            "The attack success rate is:  100.0\n",
            "The pruned channel index is:  15\n"
          ]
        },
        {
          "output_type": "stream",
          "name": "stderr",
          "text": [
            "\r 52%|█████▏    | 31/60 [02:02<01:53,  3.93s/it]"
          ]
        },
        {
          "output_type": "stream",
          "name": "stdout",
          "text": [
            "361/361 [==============================] - 1s 2ms/step\n",
            "361/361 [==============================] - 1s 2ms/step\n"
          ]
        },
        {
          "output_type": "stream",
          "name": "stderr",
          "text": [
            "\r 53%|█████▎    | 32/60 [02:06<01:49,  3.92s/it]"
          ]
        },
        {
          "output_type": "stream",
          "name": "stdout",
          "text": [
            "\n",
            "The clean accuracy is:  98.64899974019225\n",
            "The attack success rate is:  100.0\n",
            "The pruned channel index is:  23\n",
            "361/361 [==============================] - 1s 2ms/step\n",
            "361/361 [==============================] - 1s 2ms/step\n",
            "\n",
            "The clean accuracy is:  98.64899974019225\n",
            "The attack success rate is:  100.0\n",
            "The pruned channel index is:  6\n"
          ]
        },
        {
          "output_type": "stream",
          "name": "stderr",
          "text": [
            "\r 55%|█████▌    | 33/60 [02:09<01:45,  3.91s/it]"
          ]
        },
        {
          "output_type": "stream",
          "name": "stdout",
          "text": [
            "361/361 [==============================] - 1s 2ms/step\n",
            "361/361 [==============================] - 1s 2ms/step\n"
          ]
        },
        {
          "output_type": "stream",
          "name": "stderr",
          "text": [
            "\r 57%|█████▋    | 34/60 [02:13<01:42,  3.93s/it]"
          ]
        },
        {
          "output_type": "stream",
          "name": "stdout",
          "text": [
            "\n",
            "The clean accuracy is:  98.64033948211657\n",
            "The attack success rate is:  100.0\n",
            "The pruned channel index is:  51\n",
            "361/361 [==============================] - 1s 2ms/step\n",
            "361/361 [==============================] - 1s 2ms/step\n"
          ]
        },
        {
          "output_type": "stream",
          "name": "stderr",
          "text": [
            "\r 58%|█████▊    | 35/60 [02:17<01:37,  3.92s/it]"
          ]
        },
        {
          "output_type": "stream",
          "name": "stdout",
          "text": [
            "\n",
            "The clean accuracy is:  98.64033948211657\n",
            "The attack success rate is:  100.0\n",
            "The pruned channel index is:  32\n",
            "361/361 [==============================] - 1s 2ms/step\n",
            "361/361 [==============================] - 1s 2ms/step\n"
          ]
        },
        {
          "output_type": "stream",
          "name": "stderr",
          "text": [
            "\r 60%|██████    | 36/60 [02:21<01:33,  3.90s/it]"
          ]
        },
        {
          "output_type": "stream",
          "name": "stdout",
          "text": [
            "\n",
            "The clean accuracy is:  98.63167922404088\n",
            "The attack success rate is:  100.0\n",
            "The pruned channel index is:  22\n",
            "361/361 [==============================] - 1s 2ms/step\n",
            "361/361 [==============================] - 1s 2ms/step\n",
            "\n",
            "The clean accuracy is:  98.65765999826795\n",
            "The attack success rate is:  100.0\n",
            "The pruned channel index is:  21\n"
          ]
        },
        {
          "output_type": "stream",
          "name": "stderr",
          "text": [
            "\r 62%|██████▏   | 37/60 [02:25<01:29,  3.89s/it]"
          ]
        },
        {
          "output_type": "stream",
          "name": "stdout",
          "text": [
            "361/361 [==============================] - 1s 2ms/step\n",
            "361/361 [==============================] - 1s 2ms/step\n"
          ]
        },
        {
          "output_type": "stream",
          "name": "stderr",
          "text": [
            "\r 63%|██████▎   | 38/60 [02:29<01:26,  3.91s/it]"
          ]
        },
        {
          "output_type": "stream",
          "name": "stdout",
          "text": [
            "\n",
            "The clean accuracy is:  98.64899974019225\n",
            "The attack success rate is:  100.0\n",
            "The pruned channel index is:  20\n",
            "361/361 [==============================] - 1s 2ms/step\n",
            "361/361 [==============================] - 1s 2ms/step\n"
          ]
        },
        {
          "output_type": "stream",
          "name": "stderr",
          "text": [
            "\r 65%|██████▌   | 39/60 [02:33<01:21,  3.90s/it]"
          ]
        },
        {
          "output_type": "stream",
          "name": "stdout",
          "text": [
            "\n",
            "The clean accuracy is:  98.6056984498138\n",
            "The attack success rate is:  100.0\n",
            "The pruned channel index is:  19\n",
            "361/361 [==============================] - 1s 2ms/step\n",
            "361/361 [==============================] - 1s 2ms/step\n"
          ]
        },
        {
          "output_type": "stream",
          "name": "stderr",
          "text": [
            "\r 67%|██████▋   | 40/60 [02:37<01:18,  3.93s/it]"
          ]
        },
        {
          "output_type": "stream",
          "name": "stdout",
          "text": [
            "\n",
            "The clean accuracy is:  98.57105741751104\n",
            "The attack success rate is:  100.0\n",
            "The pruned channel index is:  43\n",
            "361/361 [==============================] - 1s 2ms/step\n",
            "361/361 [==============================] - 1s 2ms/step\n"
          ]
        },
        {
          "output_type": "stream",
          "name": "stderr",
          "text": [
            "\r 68%|██████▊   | 41/60 [02:41<01:15,  3.95s/it]"
          ]
        },
        {
          "output_type": "stream",
          "name": "stdout",
          "text": [
            "\n",
            "The clean accuracy is:  98.53641638520828\n",
            "The attack success rate is:  100.0\n",
            "The pruned channel index is:  58\n",
            "361/361 [==============================] - 1s 2ms/step\n",
            "361/361 [==============================] - 1s 2ms/step\n"
          ]
        },
        {
          "output_type": "stream",
          "name": "stderr",
          "text": [
            "\r 70%|███████   | 42/60 [02:45<01:11,  3.99s/it]"
          ]
        },
        {
          "output_type": "stream",
          "name": "stdout",
          "text": [
            "\n",
            "The clean accuracy is:  98.19000606218066\n",
            "The attack success rate is:  100.0\n",
            "The pruned channel index is:  3\n",
            "361/361 [==============================] - 1s 2ms/step\n",
            "361/361 [==============================] - 1s 2ms/step\n"
          ]
        },
        {
          "output_type": "stream",
          "name": "stderr",
          "text": [
            "\r 72%|███████▏  | 43/60 [02:49<01:08,  4.02s/it]"
          ]
        },
        {
          "output_type": "stream",
          "name": "stdout",
          "text": [
            "\n",
            "The clean accuracy is:  97.65307006148784\n",
            "The attack success rate is:  100.0\n",
            "The pruned channel index is:  42\n",
            "361/361 [==============================] - 1s 2ms/step\n",
            "361/361 [==============================] - 1s 2ms/step\n"
          ]
        },
        {
          "output_type": "stream",
          "name": "stderr",
          "text": [
            "\r 73%|███████▎  | 44/60 [02:53<01:03,  3.98s/it]"
          ]
        },
        {
          "output_type": "stream",
          "name": "stdout",
          "text": [
            "\n",
            "The clean accuracy is:  97.50584567420108\n",
            "The attack success rate is:  100.0\n",
            "The pruned channel index is:  1\n",
            "361/361 [==============================] - 1s 2ms/step\n"
          ]
        },
        {
          "output_type": "stream",
          "name": "stderr",
          "text": [
            "/usr/local/lib/python3.10/dist-packages/keras/src/engine/training.py:3079: UserWarning: You are saving your model as an HDF5 file via `model.save()`. This file format is considered legacy. We recommend using instead the native Keras format, e.g. `model.save('my_model.keras')`.\n",
            "  saving_api.save_model(\n",
            "WARNING:tensorflow:Compiled the loaded model, but the compiled metrics have yet to be built. `model.compile_metrics` will be empty until you train or evaluate the model.\n"
          ]
        },
        {
          "output_type": "stream",
          "name": "stdout",
          "text": [
            "The accuracy drops at least 2%, saved the model\n",
            "361/361 [==============================] - 1s 4ms/step\n"
          ]
        },
        {
          "output_type": "stream",
          "name": "stderr",
          "text": [
            "\r 75%|███████▌  | 45/60 [02:58<01:02,  4.20s/it]"
          ]
        },
        {
          "output_type": "stream",
          "name": "stdout",
          "text": [
            "\n",
            "The clean accuracy is:  95.75647354291158\n",
            "The attack success rate is:  100.0\n",
            "The pruned channel index is:  29\n",
            "361/361 [==============================] - 1s 2ms/step\n",
            "361/361 [==============================] - 1s 2ms/step\n"
          ]
        },
        {
          "output_type": "stream",
          "name": "stderr",
          "text": [
            "\r 77%|███████▋  | 46/60 [03:02<00:58,  4.17s/it]"
          ]
        },
        {
          "output_type": "stream",
          "name": "stdout",
          "text": [
            "\n",
            "The clean accuracy is:  95.20221702606739\n",
            "The attack success rate is:  99.9913397419243\n",
            "The pruned channel index is:  16\n",
            "361/361 [==============================] - 1s 2ms/step\n",
            "361/361 [==============================] - 1s 2ms/step\n"
          ]
        },
        {
          "output_type": "stream",
          "name": "stderr",
          "text": [
            "\r 78%|███████▊  | 47/60 [03:06<00:53,  4.10s/it]"
          ]
        },
        {
          "output_type": "stream",
          "name": "stdout",
          "text": [
            "\n",
            "The clean accuracy is:  94.7172425738287\n",
            "The attack success rate is:  99.9913397419243\n",
            "The pruned channel index is:  56\n",
            "361/361 [==============================] - 1s 2ms/step\n"
          ]
        },
        {
          "output_type": "stream",
          "name": "stderr",
          "text": [
            "WARNING:tensorflow:Compiled the loaded model, but the compiled metrics have yet to be built. `model.compile_metrics` will be empty until you train or evaluate the model.\n"
          ]
        },
        {
          "output_type": "stream",
          "name": "stdout",
          "text": [
            "The accuracy drops at least 4%, saved the model\n",
            "361/361 [==============================] - 1s 2ms/step\n"
          ]
        },
        {
          "output_type": "stream",
          "name": "stderr",
          "text": [
            "\r 80%|████████  | 48/60 [03:10<00:48,  4.08s/it]"
          ]
        },
        {
          "output_type": "stream",
          "name": "stdout",
          "text": [
            "\n",
            "The clean accuracy is:  92.09318437689443\n",
            "The attack success rate is:  99.9913397419243\n",
            "The pruned channel index is:  46\n",
            "361/361 [==============================] - 1s 2ms/step\n",
            "361/361 [==============================] - 1s 2ms/step\n",
            "\n",
            "The clean accuracy is:  91.49562656967177\n",
            "The attack success rate is:  99.9913397419243\n",
            "The pruned channel index is:  5\n"
          ]
        },
        {
          "output_type": "stream",
          "name": "stderr",
          "text": [
            "\r 82%|████████▏ | 49/60 [03:14<00:44,  4.06s/it]"
          ]
        },
        {
          "output_type": "stream",
          "name": "stdout",
          "text": [
            "361/361 [==============================] - 1s 2ms/step\n",
            "361/361 [==============================] - 1s 2ms/step\n"
          ]
        },
        {
          "output_type": "stream",
          "name": "stderr",
          "text": [
            "\r 83%|████████▎ | 50/60 [03:18<00:40,  4.03s/it]"
          ]
        },
        {
          "output_type": "stream",
          "name": "stdout",
          "text": [
            "\n",
            "The clean accuracy is:  91.01931237550879\n",
            "The attack success rate is:  99.98267948384861\n",
            "The pruned channel index is:  8\n",
            "361/361 [==============================] - 1s 2ms/step\n",
            "361/361 [==============================] - 1s 2ms/step\n",
            "\n",
            "The clean accuracy is:  89.17467740538669\n",
            "The attack success rate is:  80.73958603966398\n",
            "The pruned channel index is:  11\n"
          ]
        },
        {
          "output_type": "stream",
          "name": "stderr",
          "text": [
            "\r 85%|████████▌ | 51/60 [03:22<00:36,  4.01s/it]"
          ]
        },
        {
          "output_type": "stream",
          "name": "stdout",
          "text": [
            "361/361 [==============================] - 1s 2ms/step\n"
          ]
        },
        {
          "output_type": "stream",
          "name": "stderr",
          "text": [
            "WARNING:tensorflow:Compiled the loaded model, but the compiled metrics have yet to be built. `model.compile_metrics` will be empty until you train or evaluate the model.\n"
          ]
        },
        {
          "output_type": "stream",
          "name": "stdout",
          "text": [
            "The accuracy drops at least 10%, saved the model\n",
            "361/361 [==============================] - 1s 2ms/step\n",
            "\n",
            "The clean accuracy is:  84.43751623798389\n",
            "The attack success rate is:  77.015675067117\n",
            "The pruned channel index is:  54\n"
          ]
        },
        {
          "output_type": "stream",
          "name": "stderr",
          "text": [
            "\r 87%|████████▋ | 52/60 [03:26<00:32,  4.03s/it]"
          ]
        },
        {
          "output_type": "stream",
          "name": "stdout",
          "text": [
            "361/361 [==============================] - 1s 2ms/step\n",
            "361/361 [==============================] - 1s 2ms/step\n",
            "\n",
            "The clean accuracy is:  76.48739932449988\n",
            "The attack success rate is:  35.71490430414826\n",
            "The pruned channel index is:  10\n"
          ]
        },
        {
          "output_type": "stream",
          "name": "stderr",
          "text": [
            "\r 88%|████████▊ | 53/60 [03:30<00:28,  4.00s/it]"
          ]
        },
        {
          "output_type": "stream",
          "name": "stdout",
          "text": [
            "361/361 [==============================] - 1s 2ms/step\n",
            "361/361 [==============================] - 1s 2ms/step\n",
            "\n",
            "The clean accuracy is:  54.8627349095003\n",
            "The attack success rate is:  6.954187234779596\n",
            "The pruned channel index is:  28\n"
          ]
        },
        {
          "output_type": "stream",
          "name": "stderr",
          "text": [
            "\r 90%|█████████ | 54/60 [03:34<00:23,  3.96s/it]"
          ]
        },
        {
          "output_type": "stream",
          "name": "stdout",
          "text": [
            "361/361 [==============================] - 1s 2ms/step\n",
            "361/361 [==============================] - 1s 2ms/step\n"
          ]
        },
        {
          "output_type": "stream",
          "name": "stderr",
          "text": [
            "\r 92%|█████████▏| 55/60 [03:37<00:19,  3.96s/it]"
          ]
        },
        {
          "output_type": "stream",
          "name": "stdout",
          "text": [
            "\n",
            "The clean accuracy is:  27.08928726076037\n",
            "The attack success rate is:  0.4243526457088421\n",
            "The pruned channel index is:  35\n",
            "361/361 [==============================] - 1s 2ms/step\n",
            "361/361 [==============================] - 1s 2ms/step\n",
            "\n",
            "The clean accuracy is:  13.87373343725643\n",
            "The attack success rate is:  0.0\n",
            "The pruned channel index is:  18\n"
          ]
        },
        {
          "output_type": "stream",
          "name": "stderr",
          "text": [
            "\r 93%|█████████▎| 56/60 [03:41<00:15,  3.95s/it]"
          ]
        },
        {
          "output_type": "stream",
          "name": "stdout",
          "text": [
            "361/361 [==============================] - 1s 2ms/step\n",
            "361/361 [==============================] - 1s 2ms/step\n",
            "\n",
            "The clean accuracy is:  7.101411622066338\n",
            "The attack success rate is:  0.0\n",
            "The pruned channel index is:  4\n"
          ]
        },
        {
          "output_type": "stream",
          "name": "stderr",
          "text": [
            "\r 95%|█████████▌| 57/60 [03:45<00:11,  3.91s/it]"
          ]
        },
        {
          "output_type": "stream",
          "name": "stdout",
          "text": [
            "361/361 [==============================] - 1s 2ms/step\n",
            "361/361 [==============================] - 1s 2ms/step\n"
          ]
        },
        {
          "output_type": "stream",
          "name": "stderr",
          "text": [
            "\r 97%|█████████▋| 58/60 [03:49<00:07,  3.94s/it]"
          ]
        },
        {
          "output_type": "stream",
          "name": "stdout",
          "text": [
            "\n",
            "The clean accuracy is:  1.5501861955486274\n",
            "The attack success rate is:  0.0\n",
            "The pruned channel index is:  7\n",
            "361/361 [==============================] - 1s 2ms/step\n",
            "361/361 [==============================] - 1s 2ms/step\n"
          ]
        },
        {
          "output_type": "stream",
          "name": "stderr",
          "text": [
            "\r 98%|█████████▊| 59/60 [03:53<00:03,  3.93s/it]"
          ]
        },
        {
          "output_type": "stream",
          "name": "stdout",
          "text": [
            "\n",
            "The clean accuracy is:  0.7188014202823244\n",
            "The attack success rate is:  0.0\n",
            "The pruned channel index is:  52\n",
            "361/361 [==============================] - 1s 2ms/step\n",
            "361/361 [==============================] - 1s 2ms/step\n"
          ]
        },
        {
          "output_type": "stream",
          "name": "stderr",
          "text": [
            "100%|██████████| 60/60 [03:57<00:00,  3.96s/it]"
          ]
        },
        {
          "output_type": "stream",
          "name": "stdout",
          "text": [
            "\n",
            "The clean accuracy is:  0.0779423226812159\n",
            "The attack success rate is:  0.0\n",
            "The pruned channel index is:  57\n"
          ]
        },
        {
          "output_type": "stream",
          "name": "stderr",
          "text": [
            "\n"
          ]
        }
      ],
      "source": [
        "\n",
        "def prune_and_save_models(model, cl_x_test, cl_y_test, bd_x_test, bd_y_test, clean_data_acc):\n",
        "    model_copy = keras.models.clone_model(model)\n",
        "    model_copy.set_weights(model.get_weights())\n",
        "    prune_index = []\n",
        "    clean_acc = []\n",
        "    asrate = []\n",
        "    saved_model = np.zeros(3, dtype=bool)\n",
        "\n",
        "    layer_output = model_copy.get_layer('pool_3').output\n",
        "    intermediate_model = keras.models.Model(inputs=model_copy.input, outputs=layer_output)\n",
        "    intermediate_prediction = intermediate_model.predict(cl_x_test)\n",
        "    temp = np.mean(intermediate_prediction, axis=(0, 1, 2))\n",
        "    seq = np.argsort(temp)\n",
        "    weight_0 = model_copy.layers[5].get_weights()[0]\n",
        "    bias_0 = model_copy.layers[5].get_weights()[1]\n",
        "\n",
        "    for channel_index in tqdm(seq):\n",
        "        weight_0[:, :, :, channel_index] = 0\n",
        "        bias_0[channel_index] = 0\n",
        "        model_copy.layers[5].set_weights([weight_0, bias_0])\n",
        "        cl_label_p = np.argmax(model_copy.predict(cl_x_test), axis=1)\n",
        "        clean_accuracy = np.mean(np.equal(cl_label_p, cl_y_test)) * 100\n",
        "        if clean_data_acc - clean_accuracy >= 2 and not saved_model[0]:\n",
        "            print(\"The accuracy drops at least 2%, saved the model\")\n",
        "            model_copy.save(f'model_X=2_channel_{channel_index}.h5')\n",
        "            saved_model[0] = 1\n",
        "        if clean_data_acc - clean_accuracy >= 4 and not saved_model[1]:\n",
        "            print(\"The accuracy drops at least 4%, saved the model\")\n",
        "            model_copy.save(f'model_X=4_channel_{channel_index}.h5')\n",
        "            saved_model[1] = 1\n",
        "        if clean_data_acc - clean_accuracy >= 10 and not saved_model[2]:\n",
        "            print(\"The accuracy drops at least 10%, saved the model\")\n",
        "            model_copy.save(f'model_X=10_channel_{channel_index}.h5')\n",
        "            saved_model[2] = 1\n",
        "        clean_acc.append(clean_accuracy)\n",
        "        bd_label_p = np.argmax(model_copy.predict(bd_x_test), axis=1)\n",
        "        asr = np.mean(np.equal(bd_label_p, bd_y_test)) * 100\n",
        "        asrate.append(asr)\n",
        "        print()\n",
        "        print(\"The clean accuracy is: \", clean_accuracy)\n",
        "        print(\"The attack success rate is: \", asr)\n",
        "        print(\"The pruned channel index is: \", channel_index)\n",
        "        keras.backend.clear_session()\n",
        "\n",
        "if __name__ == '__main__':\n",
        "    # Load data\n",
        "    cl_x_test, cl_y_test = data_loader(clean_data_filename)\n",
        "    bd_x_test, bd_y_test = data_loader(poisoned_data_filename)\n",
        "\n",
        "    # Evaluate original model\n",
        "    original_model, clean_data_acc = load_and_evaluate_model(model_filename, cl_x_test, cl_y_test, bd_x_test, bd_y_test)\n",
        "\n",
        "    # Prune and save models based on the original model\n",
        "    prune_and_save_models(original_model, cl_x_test, cl_y_test, bd_x_test, bd_y_test, clean_data_acc)\n"
      ]
    }
  ],
  "metadata": {
    "colab": {
      "provenance": [],
      "machine_shape": "hm",
      "gpuType": "V100"
    },
    "kernelspec": {
      "display_name": "Python 3",
      "name": "python3"
    },
    "language_info": {
      "codemirror_mode": {
        "name": "ipython",
        "version": 3
      },
      "file_extension": ".py",
      "mimetype": "text/x-python",
      "name": "python",
      "nbconvert_exporter": "python",
      "pygments_lexer": "ipython3",
      "version": "3.8.6"
    },
    "accelerator": "GPU"
  },
  "nbformat": 4,
  "nbformat_minor": 0
}